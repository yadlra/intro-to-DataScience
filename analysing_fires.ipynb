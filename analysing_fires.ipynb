{
 "metadata": {
  "language_info": {
   "codemirror_mode": {
    "name": "ipython",
    "version": 3
   },
   "file_extension": ".py",
   "mimetype": "text/x-python",
   "name": "python",
   "nbconvert_exporter": "python",
   "pygments_lexer": "ipython3",
   "version": "3.9.12-final"
  },
  "orig_nbformat": 2,
  "kernelspec": {
   "name": "python3",
   "display_name": "Python 3.9.12 64-bit",
   "metadata": {
    "interpreter": {
     "hash": "4cd7ab41f5fca4b9b44701077e38c5ffd31fe66a6cab21e0214b68d958d0e462"
    }
   }
  }
 },
 "nbformat": 4,
 "nbformat_minor": 2,
 "cells": [
  {
   "cell_type": "code",
   "execution_count": 2,
   "metadata": {},
   "outputs": [
    {
     "output_type": "stream",
     "name": "stdout",
     "text": [
      "Number of unique states: 9\n"
     ]
    }
   ],
   "source": [
    "import pandas as pd\n",
    "\n",
    "# Load the CSV data into a Pandas dataframe\n",
    "fires = pd.read_csv('brazilian_amazon_fires_1999_2019.csv')\n",
    "\n",
    "# Count the number of unique states\n",
    "unique_states = fires['state'].nunique()\n",
    "\n",
    "print('Number of unique states:', unique_states)\n"
   ]
  },
  {
   "source": [
    "I want to find which location has the most fires to be able to start my situated work."
   ],
   "cell_type": "markdown",
   "metadata": {}
  },
  {
   "cell_type": "code",
   "execution_count": 14,
   "metadata": {},
   "outputs": [
    {
     "output_type": "stream",
     "name": "stdout",
     "text": [
      "Top 5 locations with the most fire spots:\n                       year  month  firespots\nlatitude   longitude                         \n-7.272872  -51.737227  2002      8      37926\n-11.093895 -56.204235  2004      9      24886\n-11.018350 -56.162919  2007      9      24779\n-10.646819 -55.591126  2002      8      23642\n-6.767477  -52.125310  2005      8      23635\n"
     ]
    }
   ],
   "source": [
    "import pandas as pd\n",
    "\n",
    "# Load the CSV data into a Pandas dataframe\n",
    "fires = pd.read_csv('brazilian_amazon_fires_1999_2019.csv')\n",
    "\n",
    "# Group the data by latitude and longitude and sum the number of fire spots for each location\n",
    "location_counts = fires.groupby(['latitude', 'longitude']).sum()\n",
    "\n",
    "# Find the 5 locations with the most fire spots\n",
    "top_locations = location_counts.nlargest(5, 'firespots')\n",
    "\n",
    "# Print the results\n",
    "print('Top 5 locations with the most fire spots:')\n",
    "print(top_locations)\n",
    "\n",
    "\n",
    "\n",
    "\n"
   ]
  },
  {
   "source": [
    "Now I can use this to create a situated pop up with either a story of the people living there, their stuggles, their history or a photograph!"
   ],
   "cell_type": "markdown",
   "metadata": {}
  }
 ]
}