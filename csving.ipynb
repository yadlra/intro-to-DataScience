{
 "metadata": {
  "language_info": {
   "codemirror_mode": {
    "name": "ipython",
    "version": 3
   },
   "file_extension": ".py",
   "mimetype": "text/x-python",
   "name": "python",
   "nbconvert_exporter": "python",
   "pygments_lexer": "ipython3",
   "version": "3.9.12-final"
  },
  "orig_nbformat": 2,
  "kernelspec": {
   "name": "python3",
   "display_name": "Python 3.9.12 64-bit",
   "metadata": {
    "interpreter": {
     "hash": "4cd7ab41f5fca4b9b44701077e38c5ffd31fe66a6cab21e0214b68d958d0e462"
    }
   }
  }
 },
 "nbformat": 4,
 "nbformat_minor": 2,
 "cells": [
  {
   "cell_type": "code",
   "execution_count": 1,
   "metadata": {},
   "outputs": [],
   "source": [
    "import csv\n",
    "\n",
    "data = [\n",
    "    ['Nation', 'Native Varieties' ],\n",
    "    ['Argentina', 60 ],\n",
    "    ['Belize', 'Unknown'],\n",
    "    ['Bolivia', 45],\n",
    "    ['Brazil', 40],\n",
    "    ['Chile', 2],\n",
    "    ['Colombia', 30],\n",
    "    ['Costa Rica', 5],\n",
    "    ['Cuba', 7],\n",
    "    ['Dominican Republic', 6],\n",
    "    ['Ecuador', 50],\n",
    "    ['El Salvador', 5],\n",
    "    ['Guatemala', 'Unknown'],\n",
    "    ['Haiti', 20],\n",
    "    ['Honduras', 12],\n",
    "    ['Jamaica', 'Unknown'],\n",
    "    ['Mexico', 64],\n",
    "    ['Nicaragua', 31],\n",
    "    ['Panama', 50],\n",
    "    ['Paraguay', 'Unknown'],\n",
    "    ['Peru', 60],\n",
    "    ['Puerto Rico', 'Unknown'],\n",
    "    ['Uruguay', 4],\n",
    "    ['Venezuela', 50]\n",
    "]\n",
    "\n",
    "# Open a new file in write mode\n",
    "with open('maize_data.csv', mode='w', newline='') as file:\n",
    "\n",
    "    # Create a CSV writer object\n",
    "    writer = csv.writer(file)\n",
    "\n",
    "    # Write each row to the file\n",
    "    for row in data:\n",
    "        writer.writerow(row)\n"
   ]
  },
  {
   "cell_type": "code",
   "execution_count": null,
   "metadata": {},
   "outputs": [],
   "source": []
  }
 ]
}