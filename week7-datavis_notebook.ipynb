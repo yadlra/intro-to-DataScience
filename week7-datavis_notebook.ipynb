{
  "metadata": {
    "language_info": {
      "codemirror_mode": {
        "name": "python",
        "version": 3
      },
      "file_extension": ".py",
      "mimetype": "text/x-python",
      "name": "python",
      "nbconvert_exporter": "python",
      "pygments_lexer": "ipython3",
      "version": "3.8"
    },
    "kernelspec": {
      "name": "python",
      "display_name": "Python (Pyodide)",
      "language": "python"
    }
  },
  "nbformat_minor": 4,
  "nbformat": 4,
  "cells": [
    {
      "cell_type": "code",
      "source": "%pip install seaborn\n%pip install plotly",
      "metadata": {
        "trusted": true
      },
      "execution_count": null,
      "outputs": []
    },
    {
      "cell_type": "code",
      "source": "import pandas as pd\nimport matplotlib.pyplot as plt\nimport seaborn as sns\nimport plotly.graph_objects as go\n# from bokeh.plotting import figure, output_file, show\nimport random\n\n# Data\nyears = [2010, 2011, 2012, 2013, 2014, 2015, 2016, 2017, 2018, 2019, 2020]\nmax_water_height = [random.uniform(0.5, 10) for _ in range(len(years))]\ndeaths = [random.randint(0, 10000) for _ in range(len(years))]\ninjuries = [random.randint(0, 5000) for _ in range(len(years))]\ncountries = ['USA', 'Japan', 'Indonesia', 'Thailand', 'Sri Lanka', 'India', 'Maldives', 'Chile', 'Peru', 'New Zealand', 'Canada']\n\ndata = {'Year': years, 'MAXIMUM WATER HEIGHT (M)': max_water_height, 'DEATHS': deaths, 'INJURIES': injuries, 'COUNTRY': countries}\n\ndf = pd.DataFrame(data)\n\n# Matplotlib Line Chart\nplt.plot(df['Year'], df['MAXIMUM WATER HEIGHT (M)'])\nplt.title('Tsunami Maximum Water Height by Year')\nplt.xlabel('Year')\nplt.ylabel('Maximum Water Height (m)')\nplt.show()\n\n# Seaborn Bar Chart\nsns.barplot(x='Year', y='DEATHS', data=df, estimator=sum)\nplt.title('Total Tsunami Deaths by Year')\nplt.xlabel('Year')\nplt.ylabel('Total Deaths')\nplt.show()\n\n",
      "metadata": {
        "trusted": true
      },
      "execution_count": null,
      "outputs": []
    },
    {
      "cell_type": "code",
      "source": "%pip install nbformat\n",
      "metadata": {
        "trusted": true
      },
      "execution_count": null,
      "outputs": []
    },
    {
      "cell_type": "code",
      "source": "# Plotly Scatter Plot\nfig = go.Figure(data=go.Scatter(x=df['COUNTRY'], y=df['INJURIES'], mode='markers'))\nfig.update_layout(title='Tsunami Injuries by Country',\n                  xaxis_title='Country', yaxis_title='Injuries')\nfig.show()",
      "metadata": {
        "trusted": true
      },
      "execution_count": null,
      "outputs": []
    },
    {
      "cell_type": "code",
      "source": "# Pandas Histogram\ndf['Year'].hist(bins=10)\nplt.title('Tsunami Events by Year')\nplt.xlabel('Year')\nplt.ylabel('Frequency')\nplt.show()",
      "metadata": {
        "trusted": true
      },
      "execution_count": null,
      "outputs": []
    },
    {
      "cell_type": "code",
      "source": "%pip install bokeh",
      "metadata": {
        "trusted": true
      },
      "execution_count": null,
      "outputs": []
    },
    {
      "cell_type": "code",
      "source": "from bokeh.io import output_file\nfrom bokeh.plotting import figure, output_file, show\nfrom bokeh.models import ColumnDataSource\nfrom bokeh.palettes import Category10",
      "metadata": {
        "trusted": true
      },
      "execution_count": null,
      "outputs": []
    },
    {
      "cell_type": "code",
      "source": "years = ['2010', '2011', '2012', '2013', '2014', '2015', '2016', '2017', '2018', '2019', '2020']\nmax_water_height = [random.uniform(0.5, 10) for _ in range(len(years))]\ndeaths = [random.randint(0, 10000) for _ in range(len(years))]\ninjuries = [random.randint(0, 5000) for _ in range(len(years))]\ncountries = ['USA', 'Japan', 'Indonesia', 'Thailand', 'Sri Lanka', 'India', 'Maldives', 'Chile', 'Peru', 'New Zealand', 'Canada']\n\ndata = {'Year': years, 'MAXIMUM WATER HEIGHT (M)': max_water_height, 'DEATHS': deaths, 'INJURIES': injuries, 'COUNTRY': countries}\n\ndf = pd.DataFrame(data)\n\n# Create a ColumnDataSource object from the DataFrame\nsource = ColumnDataSource(df)\n\n# Define the output file\noutput_file(\"tsunami_bokeh.html\")\n\n# Create a figure object\np = figure(x_range=years, title=\"Tsunami Events\")\n\n# Add a line glyph for maximum water height\np.line(x='Year', y='MAXIMUM WATER HEIGHT (M)', source=source, color=Category10[3][0], legend_label=\"Maximum Water Height\")\n\n# Add a circle glyph for deaths\np.circle(x='Year', y='DEATHS', source=source, color=Category10[3][1], legend_label=\"Deaths\")\n\n# Add a square glyph for injuries\np.square(x='Year', y='INJURIES', source=source, color=Category10[3][2], legend_label=\"Injuries\")\n\n# Set the legend location and orientation\np.legend.location = \"top_left\"\np.legend.orientation = \"horizontal\"\n\n# Show the figure\nshow(p)",
      "metadata": {
        "trusted": true
      },
      "execution_count": null,
      "outputs": []
    },
    {
      "cell_type": "code",
      "source": "",
      "metadata": {},
      "execution_count": null,
      "outputs": []
    }
  ]
}