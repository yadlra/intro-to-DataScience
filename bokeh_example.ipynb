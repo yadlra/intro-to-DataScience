{
 "metadata": {
  "language_info": {
   "codemirror_mode": {
    "name": "ipython",
    "version": 3
   },
   "file_extension": ".py",
   "mimetype": "text/x-python",
   "name": "python",
   "nbconvert_exporter": "python",
   "pygments_lexer": "ipython3",
   "version": "3.9.12-final"
  },
  "orig_nbformat": 2,
  "kernelspec": {
   "name": "python3",
   "display_name": "Python 3.9.12 64-bit",
   "metadata": {
    "interpreter": {
     "hash": "4cd7ab41f5fca4b9b44701077e38c5ffd31fe66a6cab21e0214b68d958d0e462"
    }
   }
  }
 },
 "nbformat": 4,
 "nbformat_minor": 2,
 "cells": [
  {
   "cell_type": "code",
   "execution_count": 1,
   "metadata": {},
   "outputs": [
    {
     "output_type": "stream",
     "name": "stderr",
     "text": [
      "WARNING:bokeh.embed.util:\nYou are generating standalone HTML/JS output, but trying to use real Python\ncallbacks (i.e. with on_change or on_event). This combination cannot work.\n\nOnly JavaScript callbacks may be used with standalone output. For more\ninformation on JavaScript callbacks with Bokeh, see:\n\n    https://docs.bokeh.org/en/latest/docs/user_guide/interaction/callbacks.html\n\nAlternatively, to use real Python callbacks, a Bokeh server application may\nbe used. For more information on building and running Bokeh applications, see:\n\n    https://docs.bokeh.org/en/latest/docs/user_guide/server.html\n\n"
     ]
    }
   ],
   "source": [
    "import pandas as pd\n",
    "from bokeh.io import output_file, show\n",
    "from bokeh.layouts import column\n",
    "from bokeh.models import ColumnDataSource, HoverTool, Select\n",
    "from bokeh.plotting import figure\n",
    "\n",
    "# Define data\n",
    "movies = ['Inception', 'The Social Network', 'The Dark Knight', 'Avengers: Endgame', 'La La Land', 'Parasite', 'The Grand Budapest Hotel', 'Moonlight', 'Black Panther', 'Mad Max: Fury Road']\n",
    "years = [2010, 2010, 2008, 2019, 2016, 2019, 2014, 2016, 2018, 2015]\n",
    "ratings = [8.8, 7.7, 9.0, 8.4, 8.0, 8.6, 8.1, 7.4, 7.3, 8.1]\n",
    "genres = ['Action', 'Biography', 'Action', 'Action', 'Comedy', 'Thriller', 'Comedy', 'Drama', 'Action', 'Action']\n",
    "countries = ['USA', 'USA', 'USA', 'USA', 'USA', 'South Korea', 'USA', 'USA', 'USA', 'Australia']\n",
    "\n",
    "# Create a pandas DataFrame from the data\n",
    "data = pd.DataFrame({'Movie': movies, 'Year': years, 'Rating': ratings, 'Genre': genres, 'Country': countries})\n",
    "\n",
    "# Create a ColumnDataSource for the data\n",
    "source = ColumnDataSource(data)\n",
    "\n",
    "# Create the figure\n",
    "p = figure(title='Best Movies in the Last 10 Years', x_axis_label='Year', y_axis_label='Rating', tools='box_select, lasso_select')\n",
    "\n",
    "# Add the scatter plot\n",
    "p.circle(x='Year', y='Rating', source=source, size=10, color='blue', selection_color='red', nonselection_alpha=0.1)\n",
    "\n",
    "# Add the hover tool\n",
    "hover = HoverTool(tooltips=[('Movie', '@Movie'), ('Genre', '@Genre'), ('Country', '@Country')])\n",
    "p.add_tools(hover)\n",
    "\n",
    "# Add the select widget\n",
    "genre_options = ['All'] + sorted(list(data['Genre'].unique()))\n",
    "genre_select = Select(title='Genre:', value='All', options=genre_options)\n",
    "country_options = ['All'] + sorted(list(data['Country'].unique()))\n",
    "country_select = Select(title='Country:', value='All', options=country_options)\n",
    "\n",
    "# Define the update function for the select widget\n",
    "def update():\n",
    "    print('Updating visualization')\n",
    "    genre = genre_select.value\n",
    "    country = country_select.value\n",
    "    if genre == 'All' and country == 'All':\n",
    "        selected = data\n",
    "    elif genre == 'All':\n",
    "        selected = data[data['Country'] == country]\n",
    "    elif country == 'All':\n",
    "        selected = data[data['Genre'] == genre]\n",
    "    else:\n",
    "        selected = data[(data['Genre'] == genre) & (data['Country'] == country)]\n",
    "    source.data = ColumnDataSource.from_df(selected)\n",
    "\n",
    "genre_select.on_change('value', lambda attr, old, new: update())\n",
    "country_select.on_change('value', lambda attr, old, new: update())\n",
    "\n",
    "# Create the layout\n",
    "layout = column(genre_select, country_select, p)\n",
    "\n",
    "# Output the visualization\n",
    "output_file('best_movies.html')\n",
    "show(layout)\n"
   ]
  }
 ]
}