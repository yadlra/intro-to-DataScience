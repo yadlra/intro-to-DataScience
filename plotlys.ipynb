{
 "metadata": {
  "language_info": {
   "codemirror_mode": {
    "name": "ipython",
    "version": 3
   },
   "file_extension": ".py",
   "mimetype": "text/x-python",
   "name": "python",
   "nbconvert_exporter": "python",
   "pygments_lexer": "ipython3",
   "version": "3.9.12-final"
  },
  "orig_nbformat": 2,
  "kernelspec": {
   "name": "python3",
   "display_name": "Python 3.9.12 64-bit",
   "metadata": {
    "interpreter": {
     "hash": "4cd7ab41f5fca4b9b44701077e38c5ffd31fe66a6cab21e0214b68d958d0e462"
    }
   }
  }
 },
 "nbformat": 4,
 "nbformat_minor": 2,
 "cells": [
  {
   "cell_type": "code",
   "execution_count": 37,
   "metadata": {},
   "outputs": [],
   "source": [
    "\n",
    "\n",
    "import pandas as pd\n",
    "import plotly.express as px\n",
    "import plotly\n",
    "\n",
    "\n"
   ]
  },
  {
   "cell_type": "code",
   "execution_count": 46,
   "metadata": {},
   "outputs": [
    {
     "output_type": "stream",
     "name": "stdout",
     "text": [
      "        Entity Code  Year  Number of under-five deaths\n0  Afghanistan  AFG  1966                       161659\n1  Afghanistan  AFG  1967                       162579\n2  Afghanistan  AFG  1968                       163573\n3  Afghanistan  AFG  1969                       164638\n4  Afghanistan  AFG  1970                       165430\n"
     ]
    }
   ],
   "source": [
    "df = pd.read_csv(\"child-deaths-igme-data.csv\")\n",
    "print(df.head())\n",
    "\n",
    "\n"
   ]
  },
  {
   "cell_type": "code",
   "execution_count": 47,
   "metadata": {},
   "outputs": [
    {
     "output_type": "stream",
     "name": "stdout",
     "text": [
      "Index(['Entity', 'Code', 'Year', 'Number of under-five deaths'], dtype='object')\n"
     ]
    }
   ],
   "source": [
    "\n",
    "\n",
    "print(df.head().columns)\n",
    "\n"
   ]
  },
  {
   "cell_type": "code",
   "execution_count": 48,
   "metadata": {},
   "outputs": [
    {
     "output_type": "stream",
     "name": "stdout",
     "text": [
      "Entity || Code || Year || Number of under-five deaths || "
     ]
    }
   ],
   "source": [
    "\n",
    "\n",
    "for i in (df.head().columns):\n",
    "    print(i, end=' || ')\n",
    "\n"
   ]
  },
  {
   "cell_type": "code",
   "execution_count": 41,
   "metadata": {},
   "outputs": [],
   "source": [
    "\n",
    "\n",
    "fig = px.scatter(df, x=\"Number of under-five deaths\", y=\"Deaths - Protein-energy malnutrition - Sex: Both - Age: 5-14 years (Number)\", animation_frame=\"Year\", \n",
    "    animation_group=\"Entity\", range_x=[60,000], range_y=[60,000])\n",
    "\n"
   ]
  },
  {
   "cell_type": "code",
   "execution_count": 42,
   "metadata": {},
   "outputs": [],
   "source": [
    "\n",
    "\n",
    "fig.write_html(\"/Users/yadira/week7-data-vis/malnutrition.html\")\n",
    "\n"
   ]
  },
  {
   "cell_type": "code",
   "execution_count": 43,
   "metadata": {},
   "outputs": [],
   "source": [
    "from IPython.display import HTML\n"
   ]
  },
  {
   "cell_type": "code",
   "execution_count": 44,
   "metadata": {},
   "outputs": [],
   "source": [
    "with open('/Users/yadira/week7-data-vis/malnutrition.html', 'r') as file:\n",
    "    html = file.read()\n",
    "    HTML(html)"
   ]
  },
  {
   "cell_type": "code",
   "execution_count": 45,
   "metadata": {},
   "outputs": [
    {
     "output_type": "stream",
     "name": "stdout",
     "text": [
      "Requirement already satisfied: IPython in /Users/yadira/Library/Python/3.9/lib/python/site-packages (7.28.0)\n",
      "Requirement already satisfied: jedi>=0.16 in /Users/yadira/Library/Python/3.9/lib/python/site-packages (from IPython) (0.18.0)\n",
      "Requirement already satisfied: traitlets>=4.2 in /Users/yadira/Library/Python/3.9/lib/python/site-packages (from IPython) (5.1.0)\n",
      "Requirement already satisfied: backcall in /Users/yadira/Library/Python/3.9/lib/python/site-packages (from IPython) (0.2.0)\n",
      "Requirement already satisfied: pexpect>4.3 in /Users/yadira/Library/Python/3.9/lib/python/site-packages (from IPython) (4.8.0)\n",
      "Requirement already satisfied: pickleshare in /Users/yadira/Library/Python/3.9/lib/python/site-packages (from IPython) (0.7.5)\n",
      "Requirement already satisfied: pygments in /Users/yadira/Library/Python/3.9/lib/python/site-packages (from IPython) (2.10.0)\n",
      "Requirement already satisfied: setuptools>=18.5 in /usr/local/lib/python3.9/site-packages (from IPython) (60.10.0)\n",
      "Requirement already satisfied: decorator in /Users/yadira/Library/Python/3.9/lib/python/site-packages (from IPython) (5.1.0)\n",
      "Requirement already satisfied: matplotlib-inline in /Users/yadira/Library/Python/3.9/lib/python/site-packages (from IPython) (0.1.3)\n",
      "Requirement already satisfied: appnope in /Users/yadira/Library/Python/3.9/lib/python/site-packages (from IPython) (0.1.2)\n",
      "Requirement already satisfied: prompt-toolkit!=3.0.0,!=3.0.1,<3.1.0,>=2.0.0 in /Users/yadira/Library/Python/3.9/lib/python/site-packages (from IPython) (3.0.20)\n",
      "Requirement already satisfied: parso<0.9.0,>=0.8.0 in /Users/yadira/Library/Python/3.9/lib/python/site-packages (from jedi>=0.16->IPython) (0.8.2)\n",
      "Requirement already satisfied: ptyprocess>=0.5 in /Users/yadira/Library/Python/3.9/lib/python/site-packages (from pexpect>4.3->IPython) (0.7.0)\n",
      "Requirement already satisfied: wcwidth in /Users/yadira/Library/Python/3.9/lib/python/site-packages (from prompt-toolkit!=3.0.0,!=3.0.1,<3.1.0,>=2.0.0->IPython) (0.2.5)\n",
      "\u001b[33mWARNING: You are using pip version 22.0.4; however, version 23.0 is available.\n",
      "You should consider upgrading via the '/usr/local/opt/python@3.9/bin/python3.9 -m pip install --upgrade pip' command.\u001b[0m\u001b[33m\n",
      "\u001b[0mNote: you may need to restart the kernel to use updated packages.\n"
     ]
    }
   ],
   "source": [
    "pip install IPython\n"
   ]
  },
  {
   "cell_type": "code",
   "execution_count": null,
   "metadata": {},
   "outputs": [],
   "source": []
  }
 ]
}