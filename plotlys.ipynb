{
 "metadata": {
  "language_info": {
   "codemirror_mode": {
    "name": "ipython",
    "version": 3
   },
   "file_extension": ".py",
   "mimetype": "text/x-python",
   "name": "python",
   "nbconvert_exporter": "python",
   "pygments_lexer": "ipython3",
   "version": "3.9.12-final"
  },
  "orig_nbformat": 2,
  "kernelspec": {
   "name": "python3",
   "display_name": "Python 3.9.12 64-bit",
   "metadata": {
    "interpreter": {
     "hash": "4cd7ab41f5fca4b9b44701077e38c5ffd31fe66a6cab21e0214b68d958d0e462"
    }
   }
  }
 },
 "nbformat": 4,
 "nbformat_minor": 2,
 "cells": [
  {
   "cell_type": "code",
   "execution_count": null,
   "metadata": {},
   "outputs": [],
   "source": [
    "import pandas as pd\n",
    "from bokeh.plotting import gmap\n",
    "from bokeh.models import ColumnDataSource, GMapOptions\n",
    "from bokeh.io import output_notebook, show\n",
    "\n",
    "# Load the data\n",
    "df = pd.read_csv('https://raw.githubusercontent.com/plotly/datasets/master/earthquakes-23k.csv')\n",
    "\n",
    "# Create a ColumnDataSource object for the plot\n",
    "source = ColumnDataSource(df)\n",
    "\n",
    "# Define the Google Maps options\n",
    "map_options = GMapOptions(lat=0, lng=180, map_type='roadmap', zoom=2)\n",
    "\n",
    "# Create the plot with the Google Maps base map\n",
    "p = gmap('YOUR_GOOGLE_MAPS_API_KEY', map_options, title='Earthquake Locations')\n",
    "\n",
    "# Add the earthquake locations to the plot as circles\n",
    "p.circle(x='Longitude', y='Latitude', size=10, fill_color='red', fill_alpha=0.8, source=source)\n",
    "\n",
    "# Show the plot\n",
    "output_notebook()\n",
    "show(p)\n"
   ]
  }
 ]
}