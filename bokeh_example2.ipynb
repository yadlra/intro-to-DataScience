{
 "metadata": {
  "language_info": {
   "codemirror_mode": {
    "name": "ipython",
    "version": 3
   },
   "file_extension": ".py",
   "mimetype": "text/x-python",
   "name": "python",
   "nbconvert_exporter": "python",
   "pygments_lexer": "ipython3",
   "version": "3.9.12-final"
  },
  "orig_nbformat": 2,
  "kernelspec": {
   "name": "python3",
   "display_name": "Python 3.9.12 64-bit",
   "metadata": {
    "interpreter": {
     "hash": "4cd7ab41f5fca4b9b44701077e38c5ffd31fe66a6cab21e0214b68d958d0e462"
    }
   }
  }
 },
 "nbformat": 4,
 "nbformat_minor": 2,
 "cells": [
  {
   "cell_type": "code",
   "execution_count": 1,
   "metadata": {},
   "outputs": [
    {
     "output_type": "stream",
     "name": "stderr",
     "text": [
      "WARNING:bokeh.embed.util:\nYou are generating standalone HTML/JS output, but trying to use real Python\ncallbacks (i.e. with on_change or on_event). This combination cannot work.\n\nOnly JavaScript callbacks may be used with standalone output. For more\ninformation on JavaScript callbacks with Bokeh, see:\n\n    https://docs.bokeh.org/en/latest/docs/user_guide/interaction/callbacks.html\n\nAlternatively, to use real Python callbacks, a Bokeh server application may\nbe used. For more information on building and running Bokeh applications, see:\n\n    https://docs.bokeh.org/en/latest/docs/user_guide/server.html\n\n"
     ]
    }
   ],
   "source": [
    "import random\n",
    "from bokeh.io import output_notebook, show\n",
    "from bokeh.layouts import row, column\n",
    "from bokeh.models import ColumnDataSource, Select, Div\n",
    "from bokeh.plotting import figure\n",
    "\n",
    "# output_notebook()\n",
    "\n",
    "# Generate fake data\n",
    "movies = ['The Shawshank Redemption', 'The Godfather', 'The Dark Knight', 'The Lord of the Rings: The Return of the King', 'Pulp Fiction']\n",
    "years = [random.randint(2010, 2020) for _ in range(len(movies))]\n",
    "genres = ['Drama', 'Crime', 'Action', 'Fantasy', 'Thriller']\n",
    "countries = ['USA', 'Italy', 'UK', 'New Zealand', 'France']\n",
    "ratings = [random.uniform(0, 10) for _ in range(len(movies))]\n",
    "\n",
    "# Create a data source\n",
    "source = ColumnDataSource(data=dict(movies=movies, years=years, genres=genres, countries=countries, ratings=ratings))\n",
    "\n",
    "# Create the plot\n",
    "plot = figure(title=\"Top Movies by Year and Rating\", x_axis_label='Year', y_axis_label='Rating', width=600, height=400)\n",
    "plot.circle('years', 'ratings', source=source, size=10)\n",
    "\n",
    "# Create the selection widgets\n",
    "genre_select = Select(title=\"Genre\", options=list(set(genres)), value='All')\n",
    "country_select = Select(title=\"Country\", options=list(set(countries)), value='All')\n",
    "\n",
    "# Create the summary statistics div\n",
    "stats_div = Div()\n",
    "\n",
    "# Define the update function\n",
    "def update():\n",
    "    genre = genre_select.value\n",
    "    country = country_select.value\n",
    "    filtered = dict(source.data)\n",
    "    if genre != 'All':\n",
    "        filtered = {k: v for k, v in filtered.items() if v[genres] == genre}\n",
    "    if country != 'All':\n",
    "        filtered = {k: v for k, v in filtered.items() if v[countries] == country}\n",
    "    stats_div.text = f\"Number of movies: {len(filtered['movies'])}\"\n",
    "    plot.title.text = f\"Top {len(filtered['movies'])} Movies by Year and Rating\"\n",
    "    source.data = filtered\n",
    "\n",
    "# Register the on_change callbacks\n",
    "genre_select.on_change('value', lambda attr, old, new: update())\n",
    "country_select.on_change('value', lambda attr, old, new: update())\n",
    "\n",
    "# Initial update to display all movies\n",
    "update()\n",
    "\n",
    "# Create the layout and show it\n",
    "layout = column(row(genre_select, country_select), plot, stats_div)\n",
    "show(layout)\n"
   ]
  },
  {
   "cell_type": "code",
   "execution_count": null,
   "metadata": {},
   "outputs": [],
   "source": []
  }
 ]
}